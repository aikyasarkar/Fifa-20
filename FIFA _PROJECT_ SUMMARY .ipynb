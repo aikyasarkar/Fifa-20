{
 "cells": [
  {
   "cell_type": "markdown",
   "id": "6207b652",
   "metadata": {},
   "source": [
    "## FIFA 20 PLAYERS CLUSTERING USING TRAITS AND DIFFERENT SKILLS"
   ]
  },
  {
   "cell_type": "markdown",
   "id": "63389f48",
   "metadata": {
    "id": "63389f48"
   },
   "source": [
    "## PROJECT SUMMARY"
   ]
  },
  {
   "cell_type": "markdown",
   "id": "ygceIYt0ykUO",
   "metadata": {
    "id": "ygceIYt0ykUO"
   },
   "source": [
    "-This Project is for the analysis and categorization of similar players by clustering using their traits and different skills in the feild.\n",
    "The main objective and Insights of the project are\n",
    "-The input file is given as an excel file which contains 18278 records of players information.\n",
    "The shape of the data is 18278 rows & 104 columns."
   ]
  },
  {
   "cell_type": "markdown",
   "id": "J1tRVntL0bdD",
   "metadata": {
    "id": "J1tRVntL0bdD"
   },
   "source": [
    "- One objective of this project is to find the various important features which helps in clustering of the similar kind of players. Various steps such as Preprocessing, Encoding , prediction using Machine Learning models and Visualization are used to achieve our objective"
   ]
  },
  {
   "cell_type": "markdown",
   "id": "HEBIAdvv0tDl",
   "metadata": {
    "id": "HEBIAdvv0tDl"
   },
   "source": [
    "##  1.REQUIREMENT\n",
    "\n",
    "- The input data which is an excel(.CSV) file with 18278 rows and 104 columns. The players performance and their skills are to be considered and team of similar kind of players are to be made is the main concern in this project. The data is analyzed with Jupyter notebook in Python language."
   ]
  },
  {
   "cell_type": "markdown",
   "id": "d16803d8",
   "metadata": {
    "id": "d16803d8"
   },
   "source": [
    "##  2.ANALYSYS\n",
    "\n",
    "The analysis is done by analyzing the various features of the data. \n",
    "It has features which plays important role in analysis of data with many prespectives. \n",
    "Many packages such as numpy, pandas,etc., are used to analyze the fearures. \n",
    "The features are categorized into Numerical,alphanumeric and Categorical datas.\n",
    "\n",
    "\n",
    "### Numerical Features\n",
    "Numerical features are the values which varies in a particular range and classified as discrete, continuous, or timeseries based. The Numerical Features as follows,\n",
    "\n",
    "#### Descret features\n",
    "\n",
    "-sofifa_id\n",
    "-age\n",
    "-height_cm\n",
    "-weight_kg\n",
    "-overall\n",
    "-potential\n",
    "-value_eur\n",
    "-wage_eur\n",
    "-international_reputation\n",
    "-weak_foot\n",
    "-skill_moves \n",
    "-attacking_crossing\n",
    "-attacking_finishing\n",
    "-attacking_heading_accuracy\n",
    "-attacking_short_passing\n",
    "-attacking_volleys\n",
    "-skill_dribbling\n",
    "-skill_curve\n",
    "-skill_fk_accuracy\n",
    "-skill_long_passing\n",
    "-skill_ball_control\n",
    "-movement_acceleration\n",
    "-movement_sprint_speed\n",
    "-movement_agility\n",
    "-movement_reactions\n",
    "-movement_balance\n",
    "-power_shot_power\n",
    "-power_jumping\n",
    "-power_stamina\n",
    "-power_strength\n",
    "-power_long_shots\n",
    "-mentality_aggression\n",
    "-mentality_interceptions\n",
    "-mentality_positioning\n",
    "-mentality_vision\n",
    "-mentality_penalties\n",
    "-mentality_composure\n",
    "-defending_marking\n",
    "-defending_standing_tackle\n",
    "-defending_sliding_tackle\n",
    "-goalkeeping_diving\n",
    "-goalkeeping_handling\n",
    "-goalkeeping_kicking\n",
    "-goalkeeping_positioning\n",
    "-goalkeeping_reflexes\n",
    "\n",
    "\n",
    "#### Contineous features\n",
    "-release_clause_eur\n",
    "-team_jersey_number\n",
    "-contract_valid_until\n",
    "-nation_jersey_number\n",
    "-pace\n",
    "-shooting\n",
    "-passing\n",
    "-dribbling\n",
    "-defending\n",
    "-physic\n",
    "-gk_diving\n",
    "-gk_handling\n",
    "-gk_kicking\n",
    "-gk_reflexes\n",
    "-gk_speed\n",
    "-gk_positioning'\n",
    "      \n",
    "#### Categorical features\n",
    "\n",
    "Categorical features are those which classify values into sets of similar samples but here the categorical means the datas in text format,these do not have any order,such as, Nationality,Short_name,Long_name,Club,URL ETC...\n",
    "\n",
    "\n",
    "### Data Clean Check \n",
    "\n",
    "The Data cleaning is the part of the Data science project where the workflow the project go through this stage. because the damaged and missing data will lead to the disaster in the accuracy and quality of the model. If the data is already structured and uncleaned, there is need for the data cleaning. In this case, the given data is well structured and uncleaned and there are missing data present in this data. \n",
    "\n",
    "\n",
    "\n",
    "###  Analysis by Visualization\n",
    "\n",
    "To perform the analysis by the visualisation of the data in various forms are used in this project. It is done by distributing the data and visualize using plotting with matplotlib package.  \n",
    "\n",
    "\n",
    "### Machine Learning Model \n",
    "\n",
    "The machine learning models used in this project is\n",
    "- PCA with KMeans\n"
   ]
  },
  {
   "cell_type": "markdown",
   "id": "b36eb291",
   "metadata": {},
   "source": [
    "## 3 SUMMARY\n",
    "\n",
    " The machine learning model has been fitted and grouped with the clusterting algorithm.The objective of the project is to grouping the results from the analysys ans machine learning model\n",
    " \n",
    " ### Objective 1: important features affecting the Players performance\n",
    " \n",
    " There are some important features that affects players performance with correllation > 95% are as follows,\n",
    " \n",
    "-release_clause_eur\n",
    "-attacking_finishing\n",
    "-skill_dribbling\n",
    "-movement_acceleration\n",
    "-movement_sprint_speed\n",
    "-power_shot_power\n",
    "-mentality_interceptions\n",
    "-defending_marking\n",
    "-defending_standing_tackle\n",
    "-defending_sliding_tackle\n",
    "-goalkeeping_diving\n",
    "-goalkeeping_handling\n",
    "-goalkeeping_kicking\n",
    "-goalkeeping_positioning\n",
    "-goalkeeping_reflexes\n",
    "\n",
    "\n",
    "### Objective 2: A Trained model with clustering \n",
    "\n",
    "The trained model is created using the machine learning algorithm using KMeans clustering of similar players based on skillsets and traits "
   ]
  }
 ],
 "metadata": {
  "colab": {
   "collapsed_sections": [],
   "name": "FIFA PROJECT SUMMARY.ipynb",
   "provenance": []
  },
  "kernelspec": {
   "display_name": "Python 3",
   "language": "python",
   "name": "python3"
  },
  "language_info": {
   "codemirror_mode": {
    "name": "ipython",
    "version": 3
   },
   "file_extension": ".py",
   "mimetype": "text/x-python",
   "name": "python",
   "nbconvert_exporter": "python",
   "pygments_lexer": "ipython3",
   "version": "3.8.8"
  }
 },
 "nbformat": 4,
 "nbformat_minor": 5
}
